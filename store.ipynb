{
 "cells": [
  {
   "cell_type": "code",
   "execution_count": 50,
   "metadata": {},
   "outputs": [
    {
     "name": "stdout",
     "output_type": "stream",
     "text": [
      "Annex K7.2.9 GUIDANCE FOR THE PENETRANT TEST OF PROPELLER\n"
     ]
    }
   ],
   "source": [
    "import re\n",
    "annex = re.compile(r'Annex\\s[A-Z]{1,2}\\d{1,2}[.]\\d{1,2}[.]\\d{1,2}\\D{1,100}')\n",
    "text = 'Annex K7.2.9 GUIDANCE FOR THE PENETRANT TEST OF PROPELLER'\n",
    "matchobj1 = annex.search(text)\n",
    "if matchobj1:\n",
    "    sectionTitle = matchobj1.group(0)\n",
    "    print(sectionTitle)\n",
    "else:\n",
    "    print('Hi')"
   ]
  },
  {
   "cell_type": "code",
   "execution_count": 32,
   "metadata": {},
   "outputs": [
    {
     "name": "stdout",
     "output_type": "stream",
     "text": [
      "Appendix D1 GUIDANCE FOR CALCULATION OF\n"
     ]
    }
   ],
   "source": [
    "annex = re.compile(r'Appendix\\s[A-Z]{1,2}\\d{1,2}\\D{1,100}')\n",
    "text = \"Appendix D1 GUIDANCE FOR CALCULATION OF\"\n",
    "matchobj1 = annex.search(text)\n",
    "if matchobj1:\n",
    "    sectionTitle = matchobj1.group(0)\n",
    "    print(sectionTitle)\n",
    "else:\n",
    "    print('Hi')"
   ]
  },
  {
   "cell_type": "code",
   "execution_count": 44,
   "metadata": {},
   "outputs": [
    {
     "name": "stdout",
     "output_type": "stream",
     "text": [
      "Annex M1.4.2-2 GUIDANCE FOR NON-DESTRUCTIVE INSPECTIONS\n"
     ]
    }
   ],
   "source": [
    "annex = re.compile(r'Annex\\s[A-Z]\\d{1,2}[.]\\d{1,2}[.]\\d{1,2}[-]\\d{1,2}\\s\\D{1,100}')\n",
    "text = 'Annex M1.4.2-2 GUIDANCE FOR NON-DESTRUCTIVE INSPECTIONS'\n",
    "matchobj1 = annex.search(text)\n",
    "if matchobj1:\n",
    "    sectionTitle = matchobj1.group(0)\n",
    "    print(sectionTitle)\n",
    "else:\n",
    "    print('Hi')"
   ]
  },
  {
   "cell_type": "code",
   "execution_count": 51,
   "metadata": {},
   "outputs": [
    {
     "name": "stdout",
     "output_type": "stream",
     "text": [
      "Hi\n"
     ]
    }
   ],
   "source": [
    "annex = re.compile(r'Annex\\s[A-Z]{1,2}\\d{1,2}[.]\\d{1,2}[.]\\d{1,2}[-]\\d\\D\\d\\D{1,100}')\n",
    "text = 'Annex M1.4.2-3(1) GUIDANCE FOR NON-DESTRUCTIVE INSPECTIONS'\n",
    "matchobj1 = annex.search(text)\n",
    "if matchobj1:\n",
    "    sectionTitle = matchobj1.group(0)\n",
    "    print(sectionTitle)\n",
    "else:\n",
    "    print('Hi')"
   ]
  },
  {
   "cell_type": "code",
   "execution_count": 29,
   "metadata": {},
   "outputs": [
    {
     "name": "stdout",
     "output_type": "stream",
     "text": [
      "Annex 6.4.16 STANDARD FOR THE USE OF LIMIT STATE METHODOLOGIES IN THE\n"
     ]
    }
   ],
   "source": [
    "annex = re.compile(r'Annex\\s\\d{1,2}[.]\\d{1,2}[.]\\d{1,2}\\D{1,100}')\n",
    "text = 'Annex 6.4.16 STANDARD FOR THE USE OF LIMIT STATE METHODOLOGIES IN THE'\n",
    "matchobj1 = annex.search(text)\n",
    "if matchobj1:\n",
    "    sectionTitle = matchobj1.group(0)\n",
    "    print(sectionTitle)\n",
    "else:\n",
    "    print('Hi')"
   ]
  },
  {
   "cell_type": "code",
   "execution_count": 37,
   "metadata": {},
   "outputs": [
    {
     "name": "stdout",
     "output_type": "stream",
     "text": [
      "Appendix 1 APPLICATION OF PART C OF THE GUIDANCE\n"
     ]
    }
   ],
   "source": [
    "annex = re.compile(r'Appendix\\s\\d{1,2}\\D{1,100}')\n",
    "text = \"Appendix 1 APPLICATION OF PART C OF THE GUIDANCE\"\n",
    "matchobj1 = annex.search(text)\n",
    "if matchobj1:\n",
    "    sectionTitle = matchobj1.group(0)\n",
    "    print(sectionTitle)\n",
    "else:\n",
    "    print('Hi')"
   ]
  },
  {
   "cell_type": "code",
   "execution_count": 55,
   "metadata": {},
   "outputs": [
    {
     "name": "stdout",
     "output_type": "stream",
     "text": [
      "Annex 2A GUIDANCE FOR GAS COMBUSTION UNITS\n"
     ]
    }
   ],
   "source": [
    "annex = re.compile(r'^Annex\\s\\d{1,2}\\D{1,100}')\n",
    "text = \"Annex 2A GUIDANCE FOR GAS COMBUSTION UNITS\"\n",
    "matchobj1 = annex.search(text)\n",
    "if matchobj1:\n",
    "    sectionTitle = matchobj1.group(0)\n",
    "    print(sectionTitle)\n",
    "else:\n",
    "    print('Hi')"
   ]
  },
  {
   "cell_type": "code",
   "execution_count": 64,
   "metadata": {},
   "outputs": [
    {
     "name": "stdout",
     "output_type": "stream",
     "text": [
      "Annex K5.1.11(1) GUIDANCE FOR REPAIRS BY WELDING FOR CAST STEEL\n"
     ]
    }
   ],
   "source": [
    "annex = re.compile(r'^Annex\\s.+')\n",
    "text = 'Annex K5.1.11(1) GUIDANCE FOR REPAIRS BY WELDING FOR CAST STEEL'\n",
    "matchobj1 = annex.search(text)\n",
    "if matchobj1:\n",
    "    sectionTitle = matchobj1.group(0)\n",
    "    print(sectionTitle)\n",
    "else:\n",
    "    print('Hi')"
   ]
  },
  {
   "cell_type": "code",
   "execution_count": 63,
   "metadata": {},
   "outputs": [
    {
     "name": "stdout",
     "output_type": "stream",
     "text": [
      "Appendix D1 GUIDANCE FOR CALCULATION OF\n"
     ]
    }
   ],
   "source": [
    "annex = re.compile(r'^Appendix\\s.+')\n",
    "text = \"Appendix D1 GUIDANCE FOR CALCULATION OF\"\n",
    "matchobj1 = annex.search(text)\n",
    "if matchobj1:\n",
    "    sectionTitle = matchobj1.group(0)\n",
    "    print(sectionTitle)\n",
    "else:\n",
    "    print('Hi')"
   ]
  },
  {
   "cell_type": "code",
   "execution_count": null,
   "metadata": {},
   "outputs": [],
   "source": []
  }
 ],
 "metadata": {
  "kernelspec": {
   "display_name": "Python 3",
   "language": "python",
   "name": "python3"
  },
  "language_info": {
   "codemirror_mode": {
    "name": "ipython",
    "version": 3
   },
   "file_extension": ".py",
   "mimetype": "text/x-python",
   "name": "python",
   "nbconvert_exporter": "python",
   "pygments_lexer": "ipython3",
   "version": "3.7.1"
  }
 },
 "nbformat": 4,
 "nbformat_minor": 2
}
