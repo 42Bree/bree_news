{
 "cells": [
  {
   "cell_type": "code",
   "execution_count": 1,
   "metadata": {},
   "outputs": [
    {
     "ename": "NameError",
     "evalue": "name 're' is not defined",
     "output_type": "error",
     "traceback": [
      "\u001b[1;31m---------------------------------------------------------------------------\u001b[0m",
      "\u001b[1;31mNameError\u001b[0m                                 Traceback (most recent call last)",
      "\u001b[1;32m<ipython-input-1-151e44e517d9>\u001b[0m in \u001b[0;36m<module>\u001b[1;34m\u001b[0m\n\u001b[0;32m     13\u001b[0m \u001b[0mclass_name\u001b[0m \u001b[1;33m=\u001b[0m \u001b[1;33m[\u001b[0m\u001b[1;33m]\u001b[0m\u001b[1;33m\u001b[0m\u001b[1;33m\u001b[0m\u001b[0m\n\u001b[0;32m     14\u001b[0m \u001b[1;33m\u001b[0m\u001b[0m\n\u001b[1;32m---> 15\u001b[1;33m \u001b[0ma\u001b[0m \u001b[1;33m=\u001b[0m \u001b[0mre\u001b[0m\u001b[1;33m.\u001b[0m\u001b[0mcompile\u001b[0m\u001b[1;33m(\u001b[0m\u001b[1;34mr'(\\w{1,40}[_])'\u001b[0m\u001b[1;33m)\u001b[0m\u001b[1;33m\u001b[0m\u001b[1;33m\u001b[0m\u001b[0m\n\u001b[0m\u001b[0;32m     16\u001b[0m \u001b[1;33m\u001b[0m\u001b[0m\n\u001b[0;32m     17\u001b[0m \u001b[1;32mfor\u001b[0m \u001b[0mi\u001b[0m \u001b[1;32min\u001b[0m \u001b[0mrange\u001b[0m\u001b[1;33m(\u001b[0m\u001b[0mlen\u001b[0m\u001b[1;33m(\u001b[0m\u001b[0mdata\u001b[0m\u001b[1;33m[\u001b[0m\u001b[1;34m'results'\u001b[0m\u001b[1;33m]\u001b[0m\u001b[1;33m)\u001b[0m\u001b[1;33m)\u001b[0m\u001b[1;33m:\u001b[0m\u001b[1;33m\u001b[0m\u001b[1;33m\u001b[0m\u001b[0m\n",
      "\u001b[1;31mNameError\u001b[0m: name 're' is not defined"
     ]
    }
   ],
   "source": [
    "import json\n",
    "\n",
    "with open(\"nk2-data-370_registry_e-cv_2019.json\", \"r\", encoding='UTF8') as read_file:\n",
    "    data = json.load(read_file)\n",
    "    \n",
    "b = []\n",
    "subtitle = []\n",
    "content = []\n",
    "ids = []\n",
    "lang = []\n",
    "edition = []\n",
    "file_name = []\n",
    "class_name = []\n",
    "\n",
    "a = re.compile(r'(\\w{1,40}[_])')\n",
    "\n",
    "for i in range(len(data['results'])):\n",
    "    b.append(data['results'][i])\n",
    "    text = data[\"results\"][i]['id']\n",
    "    la = a.search(text)\n",
    "    if la is None:\n",
    "        ids.append('')\n",
    "    else:\n",
    "        z = la.group(0)\n",
    "        ids.append(b[i]['id'].replace(z, \"\", 110))\n",
    "    lang.append('en')\n",
    "    edition.append('2019') #수동\n",
    "    file_name.append(b[i]['extracted_metadata']['filename'])\n",
    "    class_name.append('nk') #수동\n",
    "\n",
    "for i in range(len(b)):\n",
    "    try:\n",
    "        if b[i]['subtitle'][0]:  \n",
    "            subtitle.append(b[i]['subtitle'][0])\n",
    "        else:\n",
    "            subtitle.append('')\n",
    "        if b[i]['text']:\n",
    "            content.append(b[i]['text'])\n",
    "        else:\n",
    "            content.append('')\n",
    "    except:\n",
    "        del ids[i]\n",
    "        del lang[i]\n",
    "        del edition[i]\n",
    "        del file_name[i]\n",
    "        del class_name[i]\n",
    "        pass\n",
    "print(ids)\n",
    "## id로 malformed string Check!\n",
    "## 해당 원소에 해당하는 값을 모조리 지워준다.\n",
    "H = [] # Check if I set all the lists correctly.\n",
    "for index in range(len(ids)):\n",
    "    H.append (\n",
    "        {\n",
    "            \"id\" : ids[index],\n",
    "            \"lang\" : lang[index],\n",
    "            \"edition\" : edition[index],\n",
    "            \"file_name\" : file_name[index],\n",
    "            \"class_name\": class_name[index],\n",
    "            \"subtitle\" : subtitle[index],\n",
    "            \"content\" : content[index]\n",
    "        }\n",
    "    )"
   ]
  },
  {
   "cell_type": "code",
   "execution_count": null,
   "metadata": {
    "scrolled": false
   },
   "outputs": [],
   "source": [
    "import re \n",
    "chapter_title = []\n",
    "section_title = []\n",
    "h1 = []\n",
    "rule_title = []\n",
    "part_title = []\n",
    "\n",
    "ch = re.compile(r'(Chapter\\s\\d{1,2}\\D{1,100})')\n",
    "sec = re.compile(r'\\d{1,2}[.]\\d{1,2}\\D{1,100}')\n",
    "# \\d{1,2}.\\d{1,2}\\D{1,30}\n",
    "head = re.compile(r'\\d{1,2}[.]\\d{1,2}[.]\\d{1,2}\\D{1,100}')\n",
    "\n",
    "for i in range(len(subtitle)):\n",
    "    try:\n",
    "        text = subtitle[i]\n",
    "        matchobj = ch.search(text)\n",
    "        if matchobj:\n",
    "            areaCode = matchobj.group(0)\n",
    "            chapter_title.append(areaCode) \n",
    "        else:\n",
    "            chapter_title.append('')\n",
    "    \n",
    "        matchobj1 = sec.search(text)\n",
    "        if matchobj1:\n",
    "            sectionTitle = matchobj1.group(0)\n",
    "            section_title.append(sectionTitle) \n",
    "        else:\n",
    "            section_title.append('')\n",
    "\n",
    "        matchobj2 = head.search(text)\n",
    "        if matchobj2:\n",
    "            heading1 = matchobj2.group(0)\n",
    "            h1.append(heading1)\n",
    "        else:\n",
    "            h1.append('')\n",
    "            \n",
    "        if not matchobj and not matchobj1 and not matchobj2:\n",
    "            chapter_title[i] = text\n",
    "    except:\n",
    "        chapter_title.append('')\n",
    "        section_title.append('') \n",
    "        h1.append('')\n",
    "    \n",
    "for i in range(0,len(chapter_title)):\n",
    "    part_title.append('')    "
   ]
  },
  {
   "cell_type": "code",
   "execution_count": 2,
   "metadata": {},
   "outputs": [],
   "source": [
    "L = [] # Check if I set all the lists correctly.\n",
    "for index in range(len(ids)):\n",
    "    L.append (\n",
    "        {\n",
    "            \"id\" : ids[index],\n",
    "            \"lang\" : lang[index],\n",
    "            \"edition\" : edition[index],\n",
    "            \"file_name\" : file_name[index],\n",
    "            \"class_name\": class_name[index],\n",
    "            \"part_title\" : part_title[index],\n",
    "            \"chapter_title\" : chapter_title[index],\n",
    "            \"section_title\" : section_title[index],\n",
    "            \"heading1\" : h1[index],\n",
    "            \"content\" : content[index]\n",
    "        }\n",
    "    )"
   ]
  },
  {
   "cell_type": "code",
   "execution_count": 3,
   "metadata": {},
   "outputs": [
    {
     "ename": "NameError",
     "evalue": "name 'rule_title' is not defined",
     "output_type": "error",
     "traceback": [
      "\u001b[1;31m---------------------------------------------------------------------------\u001b[0m",
      "\u001b[1;31mNameError\u001b[0m                                 Traceback (most recent call last)",
      "\u001b[1;32m<ipython-input-3-7d1c6868ef0a>\u001b[0m in \u001b[0;36m<module>\u001b[1;34m\u001b[0m\n\u001b[0;32m     12\u001b[0m \u001b[1;33m\u001b[0m\u001b[0m\n\u001b[0;32m     13\u001b[0m \u001b[1;32mfor\u001b[0m \u001b[0mi\u001b[0m \u001b[1;32min\u001b[0m \u001b[0mrange\u001b[0m\u001b[1;33m(\u001b[0m\u001b[1;36m0\u001b[0m\u001b[1;33m,\u001b[0m\u001b[1;36m64\u001b[0m\u001b[1;33m)\u001b[0m\u001b[1;33m:\u001b[0m\u001b[1;33m\u001b[0m\u001b[1;33m\u001b[0m\u001b[0m\n\u001b[1;32m---> 14\u001b[1;33m     \u001b[0mrule_title\u001b[0m\u001b[1;33m.\u001b[0m\u001b[0mappend\u001b[0m\u001b[1;33m(\u001b[0m\u001b[1;34m'REGULATIONS FOR THE CLASSIFICATION AND REGISTRY OF SHIPS'\u001b[0m\u001b[1;33m)\u001b[0m\u001b[1;33m\u001b[0m\u001b[1;33m\u001b[0m\u001b[0m\n\u001b[0m\u001b[0;32m     15\u001b[0m \u001b[1;32mfor\u001b[0m \u001b[0mi\u001b[0m \u001b[1;32min\u001b[0m \u001b[0mrange\u001b[0m\u001b[1;33m(\u001b[0m\u001b[1;36m64\u001b[0m\u001b[1;33m,\u001b[0m\u001b[0mlen\u001b[0m\u001b[1;33m(\u001b[0m\u001b[0mchapter_title\u001b[0m\u001b[1;33m)\u001b[0m\u001b[1;33m)\u001b[0m\u001b[1;33m:\u001b[0m\u001b[1;33m\u001b[0m\u001b[1;33m\u001b[0m\u001b[0m\n\u001b[0;32m     16\u001b[0m     \u001b[0mrule_title\u001b[0m\u001b[1;33m.\u001b[0m\u001b[0mappend\u001b[0m\u001b[1;33m(\u001b[0m\u001b[1;34m'GUIDANCE FOR THE CLASSIFICATION AND REGISTRY OF SHIPS'\u001b[0m\u001b[1;33m)\u001b[0m\u001b[1;33m\u001b[0m\u001b[1;33m\u001b[0m\u001b[0m\n",
      "\u001b[1;31mNameError\u001b[0m: name 'rule_title' is not defined"
     ]
    }
   ],
   "source": [
    "def swap(x, i, j):\n",
    "    x[i], x[j] = x[j], x[i]\n",
    "\n",
    "def selectionSort(x):\n",
    "    for size in reversed(range(len(x))):\n",
    "        max_i = 0\n",
    "        for i in range(1, 1+size):\n",
    "            if int(x[i][\"id\"]) > int(x[max_i][\"id\"]):\n",
    "                max_i = i\n",
    "        swap(x, max_i, size)\n",
    "selectionSort(L)\n",
    "\n",
    "for i in range(0,64):\n",
    "    rule_title.append('REGULATIONS FOR THE CLASSIFICATION AND REGISTRY OF SHIPS')\n",
    "for i in range(64,len(chapter_title)):\n",
    "    rule_title.append('GUIDANCE FOR THE CLASSIFICATION AND REGISTRY OF SHIPS')\n"
   ]
  },
  {
   "cell_type": "code",
   "execution_count": 5,
   "metadata": {},
   "outputs": [],
   "source": [
    "matching_chapter = re.compile(r'(Chapter\\s\\d{1,2}\\D{1,100})')\n",
    "for i in range(len(L)):\n",
    "    count = 1 \n",
    "    j = i\n",
    "    while j < len(L):\n",
    "        matchobj = matching_chapter.search(L[j][\"chapter_title\"])\n",
    "        if matchobj:\n",
    "            break\n",
    "        else:\n",
    "            if L[j][\"chapter_title\"] == '':\n",
    "                count = count + 1\n",
    "                L[j][\"chapter_title\"] = L[j-count+1][\"chapter_title\"]\n",
    "                j = j + 1\n",
    "            else:\n",
    "                count = count + 1\n",
    "                j = j + 1\n",
    "    i = i + count\n",
    "        \n",
    "        \n",
    "for i in range(len(L)):\n",
    "    if L[i][\"section_title\"].endswith(\".\"):\n",
    "        L[i][\"section_title\"] = L[i-1][\"section_title\"]\n",
    "        \n",
    "    "
   ]
  },
  {
   "cell_type": "code",
   "execution_count": 6,
   "metadata": {},
   "outputs": [
    {
     "data": {
      "text/plain": [
       "[]"
      ]
     },
     "execution_count": 6,
     "metadata": {},
     "output_type": "execute_result"
    }
   ],
   "source": [
    "L"
   ]
  },
  {
   "cell_type": "code",
   "execution_count": 7,
   "metadata": {},
   "outputs": [],
   "source": [
    "order = []\n",
    "language = []\n",
    "ed = []\n",
    "fn = []\n",
    "cn = []\n",
    "rt = []\n",
    "pt = []\n",
    "ct = []\n",
    "st = []\n",
    "hea = []\n",
    "cont = []\n",
    "\n",
    "for i in range(len(L)):\n",
    "    order.append(L[i][\"id\"])\n",
    "    language.append(L[i][\"lang\"])\n",
    "    ed.append(L[i][\"edition\"])\n",
    "    fn.append(L[i][\"file_name\"])\n",
    "    cn.append(L[i][\"class_name\"])\n",
    "    rt.append(rule_title[i])\n",
    "    pt.append(L[i][\"part_title\"])\n",
    "    ct.append(L[i][\"chapter_title\"])\n",
    "    st.append(L[i][\"section_title\"])\n",
    "    hea.append(L[i][\"heading1\"])\n",
    "    cont.append(L[i][\"content\"])"
   ]
  },
  {
   "cell_type": "code",
   "execution_count": 9,
   "metadata": {},
   "outputs": [
    {
     "name": "stdout",
     "output_type": "stream",
     "text": [
      "<mysql.connector.connection_cext.CMySQLConnection object at 0x0000028F6EAE0B48>\n",
      "CMySQLCursor: (Nothing executed yet)\n",
      "Data inserted\n"
     ]
    }
   ],
   "source": [
    "#import pymysql\n",
    "import mysql.connector\n",
    "#conn = pymysql.connect(host='15.164.216.90', user='dev', password='42maru$@',\n",
    "#                       db='wiki_passage', charset='utf8')\n",
    "\n",
    "conn = mysql.connector.connect(\n",
    "   user='dev', password='424242', host='192.168.0.230', database='dsme_yard_p2')\n",
    "print(conn)\n",
    "cursor = conn.cursor()\n",
    "print(cursor)\n",
    "insert_stmt = (\n",
    "   \"INSERT INTO dsme_yard_p2.dsme_test(id, lang, edition, file_name, class_name, rule_title, part_title, chapter_title, section_title, h1, content)\"\n",
    "   \"VALUES (%s, %s, %s, %s, %s, %s, %s, %s, %s, %s, %s)\"\n",
    ")\n",
    "for index in range(len(L)):\n",
    "    data = (\n",
    "        order[index], language[index], ed[index], fn[index], cn[index], rt[index], pt[index], ct[index], st[index], hea[index], cont[index] \n",
    "    )    \n",
    "    print(data)\n",
    "    print(len(data))\n",
    "    cursor.execute(insert_stmt, data)\n",
    "    conn.commit()\n",
    "print(\"Data inserted\")\n",
    "conn.close()"
   ]
  },
  {
   "cell_type": "code",
   "execution_count": null,
   "metadata": {},
   "outputs": [],
   "source": []
  },
  {
   "cell_type": "code",
   "execution_count": null,
   "metadata": {},
   "outputs": [],
   "source": []
  }
 ],
 "metadata": {
  "kernelspec": {
   "display_name": "Python 3",
   "language": "python",
   "name": "python3"
  }
 },
 "nbformat": 4,
 "nbformat_minor": 4
}
